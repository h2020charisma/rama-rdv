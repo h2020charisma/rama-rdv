{
 "cells": [
  {
   "cell_type": "code",
   "execution_count": null,
   "metadata": {},
   "outputs": [],
   "source": [
    "import requests\n",
    "from tasks import converter\n",
    "import h5py"
   ]
  },
  {
   "cell_type": "code",
   "execution_count": null,
   "metadata": {},
   "outputs": [],
   "source": [
    "datamodel = {\"substance\" : None}\n",
    "url = \"https://apps.ideaconsult.net/gracious/substance/GRCS-7bd6de68-a312-3254-8b3f-9f46d6976ce6\"\n",
    "headers = {'Content-Type': 'application/json'}\n",
    "result = requests.get(url+\"?media=application/json\",headers=headers)\n",
    "if result.status_code==200:\n",
    "    datamodel[\"substance\"] = result.json()[\"substance\"]\n",
    "\n"
   ]
  },
  {
   "cell_type": "code",
   "execution_count": null,
   "metadata": {},
   "outputs": [],
   "source": [
    "#get studies\n",
    "for substance in datamodel[\"substance\"]:\n",
    "    result = requests.get(substance[\"URI\"]+\"/study?media=application/json\",headers=headers)\n",
    "    if result.status_code==200:\n",
    "        substance[\"study\"] = result.json()[\"study\"]\n",
    "print(datamodel)"
   ]
  },
  {
   "cell_type": "code",
   "execution_count": null,
   "metadata": {},
   "outputs": [],
   "source": [
    "with h5py.File('data.h5', 'w') as h5file:\n",
    "    converter.ambit2hdf5(datamodel,h5file)"
   ]
  }
 ],
 "metadata": {
  "kernelspec": {
   "display_name": "ramanchada2",
   "language": "python",
   "name": "python3"
  },
  "language_info": {
   "codemirror_mode": {
    "name": "ipython",
    "version": 3
   },
   "file_extension": ".py",
   "mimetype": "text/x-python",
   "name": "python",
   "nbconvert_exporter": "python",
   "pygments_lexer": "ipython3",
   "version": "3.10.0"
  },
  "orig_nbformat": 4
 },
 "nbformat": 4,
 "nbformat_minor": 2
}
