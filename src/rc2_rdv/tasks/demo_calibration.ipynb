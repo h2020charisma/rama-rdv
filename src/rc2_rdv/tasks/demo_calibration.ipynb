{
 "cells": [
  {
   "cell_type": "markdown",
   "metadata": {},
   "source": [
    "# CHARISMA \n",
    "## Demo calibration notebook\n",
    "Uses https://github.com/h2020charisma/ramanchada2 library | [Documentation](https://h2020charisma.github.io/ramanchada2/ramanchada2.html) | [Installation](https://pypi.org/project/ramanchada2/)"
   ]
  },
  {
   "cell_type": "markdown",
   "metadata": {},
   "source": [
    "Steps:\n",
    "- Read the metadata template\n",
    "    - Metadata entry template (Excel) available at [Template Wizard](https://enanomapper.adma.ai/projects/enanomapper/datatemplates/pchem/index.html?template=CHARISMA_RR) [1]\n",
    "- Read the Neon and Si spectra listed in the metadata template\n",
    "    - supported data formats (spc, .sp, .spa, .wdf, .ngs, .jdx, .dx, .txt, .csv, .rruf)\n",
    "- Derive calibration model\n",
    "    - Derive calibration curve using Neon spectra and reference Neon peaks\n",
    "    - Laser zeroing using Si spectra and reference peak\n",
    "    - saves the calibraiton model\n",
    "- Apply calibration model\n",
    "    - Reads Polystyrene spectra using metadata template    \n",
    "    - Applies the calibration model \n",
    "\n",
    "***\n",
    "[1] Jeliazkova, Nina, et al. 2024. “A Template Wizard for the Cocreation of Machine-Readable Data-Reporting to Harmonize the Evaluation of (Nano)Materials.” Nature Protocols, May. https://doi.org/10.1038/s41596-024-00993-1."
   ]
  },
  {
   "cell_type": "code",
   "execution_count": 31,
   "metadata": {},
   "outputs": [],
   "source": [
    "# imports\n",
    "import os.path\n",
    "import pandas as pd\n",
    "import ramanchada2 as rc2\n",
    "from pathlib import Path\n",
    "import shutil\n",
    "import matplotlib.pyplot as plt\n",
    "import logging\n",
    "\n",
    "# set folder\n",
    "config_root = \".\"\n",
    "\n",
    "def read_template(file):\n",
    "    _path = os.path.join(config_root,file)\n",
    "    df = pd.read_excel(_path, sheet_name='Files')\n",
    "    df.columns = ['sample', 'measurement', 'filename', 'optical_path', 'laser_power_mw', \n",
    "              'humidity', 'temperature', 'date', 'time']\n",
    "    df_meta = pd.read_excel(_path, sheet_name='Front sheet', skiprows=4)\n",
    "    df_meta.columns = ['optical_path', 'instrument_make', 'instrument_model', 'wavelength','collection_optics','slit_size','grating','pin_hole_size','collection_fibre_diameter','notes']    \n",
    "    df_merged = pd.merge(df, df_meta, on='optical_path', how='left')\n",
    "\n",
    "    # Open the Excel file and read specific cells directly\n",
    "    with pd.ExcelFile(_path) as xls:\n",
    "        provider = xls.parse('Front sheet', usecols=\"B\", nrows=1, header=None).iloc[0, 0]\n",
    "        investigation = xls.parse('Front sheet', usecols=\"F\", nrows=1, header=None).iloc[0, 0]\n",
    "    df_merged[\"provider\"] = provider\n",
    "    df_merged[\"investigation\"] = investigation\n",
    "    df_merged[\"source\"] = file\n",
    "    return df_merged\n",
    "\n",
    "\n",
    "import warnings\n",
    "warnings.filterwarnings(\"ignore\")\n",
    "logging.getLogger(\"spc_io\").setLevel(logging.ERROR)"
   ]
  },
  {
   "cell_type": "code",
   "execution_count": null,
   "metadata": {},
   "outputs": [],
   "source": [
    "#template_file = \"Template Raman Reporting_LBF_532.xlsx\"\n",
    "template_file = \"Template Raman Reporting_ZLM785.xlsx\"\n",
    "metadata = read_template(template_file)    \n",
    "metadata[[\"investigation\",\"sample\",\"filename\",\"wavelength\",\"optical_path\",\"instrument_make\",\"instrument_model\",\"provider\"]].style.set_properties(subset=['filename'], **{'text-align': 'right'}).hide(axis='index')"
   ]
  },
  {
   "cell_type": "code",
   "execution_count": null,
   "metadata": {},
   "outputs": [],
   "source": [
    "neon_tag=\"Neon\"\n",
    "si_tag = \"S0B\"\n",
    "pst_tag=\"PST\""
   ]
  },
  {
   "cell_type": "code",
   "execution_count": null,
   "metadata": {},
   "outputs": [],
   "source": [
    "# Load Ne and Si spectra\n",
    "## Load Ne spectrum\n",
    "meta_neon = metadata.loc[metadata[\"sample\"]==neon_tag]\n",
    "_file = os.path.join(config_root,meta_neon.iloc[0][\"filename\"])\n",
    "spe_neon = rc2.spectrum.from_local_file(_file)\n",
    "\n",
    "## Load Si spectrum\n",
    "meta_si = metadata.loc[metadata[\"sample\"]==si_tag]\n",
    "_file = os.path.join(config_root,meta_si.iloc[0][\"filename\"])\n",
    "spe_si = rc2.spectrum.from_local_file(_file)\n",
    "\n",
    "# Plot\n",
    "fig, ax = plt.subplots(1, 2, figsize=(15,2))   \n",
    "spe_neon.plot(label=neon_tag,color=\"red\",ax=ax[0])\n",
    "ax[0].set_xlabel(\"cm-1\")\n",
    "spe_si.plot(label=si_tag,color=\"blue\",ax=ax[1])\n",
    "ax[1].set_xlabel(\"cm-1\")"
   ]
  },
  {
   "cell_type": "code",
   "execution_count": null,
   "metadata": {},
   "outputs": [],
   "source": [
    "# clean .cha files from previous run\n",
    "for tag in [neon_tag,si_tag, pst_tag]:\n",
    "    cha_file = os.path.join(config_root,\"{}.cha\".format(tag))\n",
    "    if os.path.exists(cha_file):\n",
    "        os.remove(cha_file)\n"
   ]
  },
  {
   "cell_type": "code",
   "execution_count": null,
   "metadata": {},
   "outputs": [],
   "source": [
    "# write into .cha file\n",
    "cha_file = os.path.join(config_root,\"{}.cha\".format(neon_tag))\n",
    "spe_neon.write_cha(cha_file,dataset = \"/raw\")\n",
    "print(os.path.basename(cha_file))\n",
    "\n",
    "cha_file = os.path.join(config_root,\"{}.cha\".format(si_tag))\n",
    "spe_si.write_cha(os.path.join(config_root,\"{}.cha\".format(si_tag)),dataset = \"/raw\")\n",
    "print(os.path.basename(cha_file))"
   ]
  },
  {
   "cell_type": "code",
   "execution_count": null,
   "metadata": {},
   "outputs": [],
   "source": [
    "# Process spectra\n",
    "# crop\n",
    "spe_si = spe_si.trim_axes(method='x-axis',boundaries=(520.45-200,520.45+200))\n",
    "spe_neon = spe_neon.trim_axes(method='x-axis',boundaries=(100,max(spe_neon.x)))\n",
    "\n",
    "## baseline  SNIP\n",
    "kwargs = {\"niter\" : 40 }\n",
    "spe_neon = spe_neon.subtract_baseline_rc1_snip(**kwargs)  \n",
    "spe_si = spe_si.subtract_baseline_rc1_snip(**kwargs)  \n",
    "\n",
    "### write as dataset in .cha file\n",
    "spe_neon.write_cha(os.path.join(config_root,\"{}.cha\".format(neon_tag)),dataset = \"/baseline\")\n",
    "spe_si.write_cha(os.path.join(config_root,\"{}.cha\".format(si_tag)),dataset = \"/baseline\")\n",
    "\n",
    "## normalize min/max\n",
    "spe_neon = spe_neon.normalize()        \n",
    "spe_si = spe_si.normalize()        \n",
    "\n",
    "### write as dataset in .cha file\n",
    "spe_neon.write_cha(os.path.join(config_root,\"{}.cha\".format(neon_tag)),dataset = \"/normalized\")\n",
    "spe_si.write_cha(os.path.join(config_root,\"{}.cha\".format(si_tag)),dataset = \"/normalized\")\n",
    "\n",
    "# Plot\n",
    "fig, ax = plt.subplots(1, 2, figsize=(15,2))   \n",
    "ax[0].set_xlabel(\"cm-1\")\n",
    "ax[1].set_xlabel(\"cm-1\")\n",
    "spe_neon.plot(label=neon_tag,color=\"red\",ax=ax[0])\n",
    "spe_si.plot(label=si_tag,color=\"blue\",ax=ax[1])\n",
    "\n",
    "plt.show()\n"
   ]
  },
  {
   "cell_type": "code",
   "execution_count": null,
   "metadata": {},
   "outputs": [],
   "source": [
    "# wavelength\n",
    "laser_wl = metadata[\"wavelength\"].unique()[0]\n",
    "laser_wl"
   ]
  },
  {
   "cell_type": "code",
   "execution_count": null,
   "metadata": {},
   "outputs": [],
   "source": [
    "import ramanchada2.misc.constants  as rc2const\n",
    "noise_factor = 1.5\n",
    "neon_wl = {\n",
    "    785: rc2const.neon_wl_785_nist_dict,\n",
    "    633: rc2const.neon_wl_633_nist_dict,\n",
    "    532: rc2const.neon_wl_532_nist_dict\n",
    "}"
   ]
  },
  {
   "cell_type": "markdown",
   "metadata": {},
   "source": [
    "## Derive the calibration model"
   ]
  },
  {
   "cell_type": "code",
   "execution_count": null,
   "metadata": {},
   "outputs": [],
   "source": [
    "from ramanchada2.protocols.calibration import CalibrationModel\n",
    "\n",
    "def calibration_model(laser_wl,spe_neon,spe_sil):\n",
    "    calmodel = CalibrationModel(laser_wl)\n",
    "    calmodel.prominence_coeff = 3\n",
    "    model_neon = calmodel.derive_model_curve(spe_neon,neon_wl[laser_wl],spe_units=\"cm-1\",ref_units=\"nm\",find_kw={},fit_peaks_kw={},should_fit = False,name=\"Neon calibration\")\n",
    "    spe_sil_ne_calib = model_neon.process(spe_sil,spe_units=\"cm-1\",convert_back=False)\n",
    "    find_kw = {\"prominence\" :spe_sil_ne_calib.y_noise * calmodel.prominence_coeff , \"wlen\" : 200, \"width\" :  1 }\n",
    "    model_si = calmodel.derive_model_zero(spe_sil_ne_calib,ref={520.45:1},spe_units=\"nm\",ref_units=\"cm-1\",find_kw=find_kw,fit_peaks_kw={},should_fit=True,name=\"Si calibration\")\n",
    "    model_si.peaks.to_csv(os.path.join(config_root,template_file.replace(\".xlsx\",\"peaks.csv\")),index=False)\n",
    "\n",
    "    spe_sil_calib = model_si.process(spe_sil_ne_calib,spe_units=\"nm\",convert_back=False)\n",
    "\n",
    "    fig, ax =plt.subplots(1,1,figsize=(12,2))\n",
    "    spe_sil.plot(label=\"{} original\".format(si_tag),ax=ax)\n",
    "    spe_sil_calib.plot(ax = ax,label=\"{} laser zeroed\".format(si_tag),fmt=\":\")\n",
    "    ax.set_xlim(520.45-50,520.45+50)    \n",
    "    ax.set_xlabel(\"cm-1\")\n",
    "    \n",
    "    return calmodel\n",
    "\n",
    "def apply_calibration_x(calmodel: CalibrationModel, old_spe: rc2.spectrum.Spectrum, spe_units=\"cm-1\"):\n",
    "    new_spe = old_spe\n",
    "    model_units = spe_units\n",
    "    for model in calmodel.components:\n",
    "        if model.enabled:\n",
    "            new_spe = model.process(new_spe, model_units, convert_back=False)\n",
    "            model_units = model.model_units\n",
    "    return new_spe"
   ]
  },
  {
   "cell_type": "code",
   "execution_count": null,
   "metadata": {},
   "outputs": [],
   "source": [
    "calmodel = calibration_model(laser_wl,spe_neon,spe_si)"
   ]
  },
  {
   "cell_type": "code",
   "execution_count": null,
   "metadata": {},
   "outputs": [],
   "source": [
    "# save the calibration model\n",
    "_calfile = os.path.join(config_root,template_file.replace(\".xlsx\",\".calibration\"))\n",
    "print(os.path.basename(_calfile))\n",
    "calmodel.save(_calfile) \n",
    "# we can load this file later e.g.\n",
    "# calmodel = CalibrationModel.from_file(_calfile)   \n",
    "# and apply to a new spectrum e.g.\n",
    "# spe_pst_calibrated = calmodel.apply_calibration_x(spe_pst)  "
   ]
  },
  {
   "cell_type": "markdown",
   "metadata": {},
   "source": [
    "## Apply the calibration model"
   ]
  },
  {
   "cell_type": "code",
   "execution_count": null,
   "metadata": {},
   "outputs": [],
   "source": [
    "# Apply the calibration model\n",
    "from ramanchada2.spectrum import from_chada\n",
    "\n",
    "\n",
    "## Load PST spectrum\n",
    "meta_pst = metadata.loc[metadata[\"sample\"]==pst_tag]\n",
    "_file = os.path.join(config_root,meta_pst.iloc[0][\"filename\"])\n",
    "\n",
    "spe_pst = rc2.spectrum.from_local_file(_file)\n",
    "\n",
    "spe_pst = spe_pst.trim_axes(method='x-axis',boundaries=(100,max(spe_pst.x)))\n",
    "\n",
    "# Plot\n",
    "fig, ax = plt.subplots(2, 1, figsize=(15,4))   \n",
    "ax[1].set_xlabel(\"cm-1\")\n",
    "ax[0].set_title(pst_tag)\n",
    "spe_pst.plot(ax=ax[0],label=\"raw\")\n",
    "\n",
    "#Preprocess\n",
    "kwargs = {\"niter\" : 40 }\n",
    "spe_pst = spe_pst.subtract_baseline_rc1_snip(**kwargs) \n",
    "spe_pst.plot(ax=ax[0],label=\"baseline removed\")\n",
    "spe_pst = spe_pst.normalize()\n",
    "spe_pst.plot(ax=ax[1],label=\"normalized\")\n",
    "\n",
    "\n",
    "# calibrate\n",
    "spe_pst_calibrated = calmodel.apply_calibration_x(spe_pst) \n",
    "spe_pst_calibrated.plot(ax=ax[1],label=\"calibrated\",color=\"red\")\n",
    "plt.show()"
   ]
  },
  {
   "cell_type": "code",
   "execution_count": null,
   "metadata": {},
   "outputs": [],
   "source": [
    "spe_pst_calibrated.write_cha(os.path.join(config_root,\"{}.cha\".format(si_tag)),dataset = \"/calibrated\")"
   ]
  },
  {
   "cell_type": "code",
   "execution_count": null,
   "metadata": {},
   "outputs": [],
   "source": [
    "# export calibrated spectrum into text format\n",
    "pd.DataFrame(zip(spe_pst_calibrated.x,spe_pst_calibrated.y), columns=['X', 'Y'])"
   ]
  },
  {
   "cell_type": "markdown",
   "metadata": {},
   "source": [
    "> This project has received funding from the European Union's Horizon 2020 research and innovation programme under grant agreement 952921 CHARISMA"
   ]
  }
 ],
 "metadata": {
  "kernelspec": {
   "display_name": "pynanomapper-pPqgyepc-py3.11",
   "language": "python",
   "name": "python3"
  },
  "language_info": {
   "codemirror_mode": {
    "name": "ipython",
    "version": 3
   },
   "file_extension": ".py",
   "mimetype": "text/x-python",
   "name": "python",
   "nbconvert_exporter": "python",
   "pygments_lexer": "ipython3",
   "version": "3.11.5"
  }
 },
 "nbformat": 4,
 "nbformat_minor": 2
}
